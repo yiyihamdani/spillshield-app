{
  "nbformat": 4,
  "nbformat_minor": 0,
  "metadata": {
    "colab": {
      "provenance": [],
      "gpuType": "T4"
    },
    "kernelspec": {
      "name": "python3",
      "display_name": "Python 3"
    },
    "language_info": {
      "name": "python"
    },
    "accelerator": "GPU"
  },
  "cells": [
    {
      "cell_type": "code",
      "execution_count": null,
      "metadata": {
        "id": "njvrCni8KFTi"
      },
      "outputs": [],
      "source": [
        "import keras\n",
        "from keras.datasets import mnist\n",
        "from keras.layers import Conv2D, MaxPooling2D, AveragePooling2D\n",
        "from keras.layers import Dense, Flatten\n",
        "from keras import optimizers\n",
        "from keras.models import Sequential\n",
        "from keras.layers import Input, Lambda, Dense, Flatten\n",
        "from keras.models import Model\n",
        "from keras.applications.vgg16 import VGG16\n",
        "from keras.applications.vgg16 import preprocess_input\n",
        "from keras.preprocessing import image\n",
        "from keras.preprocessing.image import ImageDataGenerator\n",
        "from keras.models import Sequential\n",
        "import numpy as np\n",
        "from glob import glob\n",
        "import matplotlib.pyplot as plt"
      ]
    },
    {
      "cell_type": "code",
      "source": [
        "from google.colab import drive\n",
        "drive.mount('/content/drive')"
      ],
      "metadata": {
        "colab": {
          "base_uri": "https://localhost:8080/"
        },
        "id": "hvk54lPzPhdM",
        "outputId": "b6fabd74-34eb-49da-f1ed-0d206afcbd5a"
      },
      "execution_count": null,
      "outputs": [
        {
          "output_type": "stream",
          "name": "stdout",
          "text": [
            "Mounted at /content/drive\n"
          ]
        }
      ]
    },
    {
      "cell_type": "code",
      "source": [
        "from keras.preprocessing.image import ImageDataGenerator\n",
        "\n",
        "train_datagen = ImageDataGenerator(rescale = 1./255,\n",
        "                                   shear_range = 0.2,\n",
        "                                   zoom_range = 0.2,\n",
        "                                   validation_split=0.2,\n",
        "                                   horizontal_flip = True)\n",
        "\n",
        "test_datagen = ImageDataGenerator(rescale = 1./255)\n",
        "\n",
        "\n",
        "training_set = train_datagen.flow_from_directory(r'/content/drive/MyDrive/Colab Notebooks/final dataset used for oil spill/dataset-final/dataset/train',\n",
        "                                                 target_size = (224, 224),\n",
        "                                                 batch_size = 8,\n",
        "                                                 subset=\"training\",\n",
        "                                                 class_mode = 'categorical')\n",
        "\n",
        "validation_set = train_datagen.flow_from_directory(r'/content/drive/MyDrive/Colab Notebooks/final dataset used for oil spill/dataset-final/dataset/Validation',\n",
        "                                                 target_size = (224, 224),\n",
        "                                                 batch_size = 8,\n",
        "                                                subset=\"validation\",\n",
        "                                                 class_mode = 'categorical')\n",
        "\n",
        "test_set = test_datagen.flow_from_directory(r'/content/drive/MyDrive/Colab Notebooks/final dataset used for oil spill/dataset-final/dataset/test',\n",
        "                                            target_size = (224, 224),\n",
        "                                            batch_size = 8,\n",
        "                                            class_mode = 'categorical')\n",
        "\n",
        "#color_mode = \"grayscale\"\n",
        "\n",
        "\n",
        "STEP_SIZE_TRAIN=training_set.n//training_set.batch_size\n",
        "STEP_SIZE_VALID=validation_set.n//validation_set.batch_size\n",
        "STEP_SIZE_TEST=test_set.n//test_set.batch_size"
      ],
      "metadata": {
        "colab": {
          "base_uri": "https://localhost:8080/"
        },
        "id": "lpCgWtiXPW8N",
        "outputId": "026ec88a-558e-4acd-a28c-cbf3c7c873a7"
      },
      "execution_count": null,
      "outputs": [
        {
          "output_type": "stream",
          "name": "stdout",
          "text": [
            "Found 2240 images belonging to 2 classes.\n",
            "Found 121 images belonging to 2 classes.\n",
            "Found 600 images belonging to 2 classes.\n"
          ]
        }
      ]
    },
    {
      "cell_type": "code",
      "source": [
        "IMAGE_SIZE = [224, 224]\n",
        "vgg = VGG16(input_shape=IMAGE_SIZE + [3], weights='imagenet', include_top=False)\n",
        "#here [3] denotes for RGB images(3 channels)\n",
        "\n",
        "#don't train existing weights\n",
        "for layer in vgg.layers:\n",
        " layer.trainable = False\n",
        "\n",
        "x = Flatten()(vgg.output)\n",
        "prediction = Dense(10, activation='softmax')(x)\n",
        "model = Model(inputs=vgg.input, outputs=prediction)\n",
        "model.compile(loss='categorical_crossentropy',\n",
        "                    optimizer=optimizers.Adam(),\n",
        "                    metrics=['accuracy'])\n",
        "model.summary()"
      ],
      "metadata": {
        "colab": {
          "base_uri": "https://localhost:8080/"
        },
        "id": "N6ExuvX-Qjp7",
        "outputId": "1cceb7e7-50e6-43b3-a806-334ab1df5484"
      },
      "execution_count": null,
      "outputs": [
        {
          "output_type": "stream",
          "name": "stdout",
          "text": [
            "Downloading data from https://storage.googleapis.com/tensorflow/keras-applications/vgg16/vgg16_weights_tf_dim_ordering_tf_kernels_notop.h5\n",
            "58889256/58889256 [==============================] - 4s 0us/step\n",
            "Model: \"model\"\n",
            "_________________________________________________________________\n",
            " Layer (type)                Output Shape              Param #   \n",
            "=================================================================\n",
            " input_1 (InputLayer)        [(None, 224, 224, 3)]     0         \n",
            "                                                                 \n",
            " block1_conv1 (Conv2D)       (None, 224, 224, 64)      1792      \n",
            "                                                                 \n",
            " block1_conv2 (Conv2D)       (None, 224, 224, 64)      36928     \n",
            "                                                                 \n",
            " block1_pool (MaxPooling2D)  (None, 112, 112, 64)      0         \n",
            "                                                                 \n",
            " block2_conv1 (Conv2D)       (None, 112, 112, 128)     73856     \n",
            "                                                                 \n",
            " block2_conv2 (Conv2D)       (None, 112, 112, 128)     147584    \n",
            "                                                                 \n",
            " block2_pool (MaxPooling2D)  (None, 56, 56, 128)       0         \n",
            "                                                                 \n",
            " block3_conv1 (Conv2D)       (None, 56, 56, 256)       295168    \n",
            "                                                                 \n",
            " block3_conv2 (Conv2D)       (None, 56, 56, 256)       590080    \n",
            "                                                                 \n",
            " block3_conv3 (Conv2D)       (None, 56, 56, 256)       590080    \n",
            "                                                                 \n",
            " block3_pool (MaxPooling2D)  (None, 28, 28, 256)       0         \n",
            "                                                                 \n",
            " block4_conv1 (Conv2D)       (None, 28, 28, 512)       1180160   \n",
            "                                                                 \n",
            " block4_conv2 (Conv2D)       (None, 28, 28, 512)       2359808   \n",
            "                                                                 \n",
            " block4_conv3 (Conv2D)       (None, 28, 28, 512)       2359808   \n",
            "                                                                 \n",
            " block4_pool (MaxPooling2D)  (None, 14, 14, 512)       0         \n",
            "                                                                 \n",
            " block5_conv1 (Conv2D)       (None, 14, 14, 512)       2359808   \n",
            "                                                                 \n",
            " block5_conv2 (Conv2D)       (None, 14, 14, 512)       2359808   \n",
            "                                                                 \n",
            " block5_conv3 (Conv2D)       (None, 14, 14, 512)       2359808   \n",
            "                                                                 \n",
            " block5_pool (MaxPooling2D)  (None, 7, 7, 512)         0         \n",
            "                                                                 \n",
            " flatten (Flatten)           (None, 25088)             0         \n",
            "                                                                 \n",
            " dense (Dense)               (None, 10)                250890    \n",
            "                                                                 \n",
            "=================================================================\n",
            "Total params: 14965578 (57.09 MB)\n",
            "Trainable params: 250890 (980.04 KB)\n",
            "Non-trainable params: 14714688 (56.13 MB)\n",
            "_________________________________________________________________\n"
          ]
        }
      ]
    },
    {
      "cell_type": "code",
      "source": [
        "num_batches_to_print = 5  # Adjust as needed\n",
        "for i, (batch_x, batch_y) in enumerate(training_set):\n",
        "    print(\"Batch:\", i)\n",
        "    print(\"Input shape:\", batch_x.shape)\n",
        "    print(\"Target shape:\", batch_y.shape)\n",
        "    if i == num_batches_to_print - 1:\n",
        "        break\n"
      ],
      "metadata": {
        "colab": {
          "base_uri": "https://localhost:8080/"
        },
        "id": "VQk3j1coQxlT",
        "outputId": "8c333c29-03d3-4927-baf0-9fceaa306945"
      },
      "execution_count": null,
      "outputs": [
        {
          "output_type": "stream",
          "name": "stdout",
          "text": [
            "Batch: 0\n",
            "Input shape: (8, 224, 224, 3)\n",
            "Target shape: (8, 2)\n",
            "Batch: 1\n",
            "Input shape: (8, 224, 224, 3)\n",
            "Target shape: (8, 2)\n",
            "Batch: 2\n",
            "Input shape: (8, 224, 224, 3)\n",
            "Target shape: (8, 2)\n",
            "Batch: 3\n",
            "Input shape: (8, 224, 224, 3)\n",
            "Target shape: (8, 2)\n",
            "Batch: 4\n",
            "Input shape: (8, 224, 224, 3)\n",
            "Target shape: (8, 2)\n"
          ]
        }
      ]
    },
    {
      "cell_type": "code",
      "source": [
        "# Replace these values with the actual dimensions of your input data\n",
        "height = 224\n",
        "width = 224\n",
        "channels = 3  # For RGB images, set to 1 for grayscale\n",
        "\n",
        "model.add(Conv2D(32, (3, 3), input_shape=(height, width, channels)))\n"
      ],
      "metadata": {
        "id": "i94_jySxeQFk"
      },
      "execution_count": null,
      "outputs": []
    },
    {
      "cell_type": "code",
      "source": [
        "model.add(Dense(num_classes, activation='softmax'))\n"
      ],
      "metadata": {
        "id": "VjDKEpJPefQl"
      },
      "execution_count": null,
      "outputs": []
    },
    {
      "cell_type": "code",
      "source": [
        "from keras.preprocessing.image import ImageDataGenerator\n",
        "\n",
        "# Define the batch size\n",
        "batch_size = 32  # You can adjust this value based on your requirements\n",
        "\n",
        "# Specify the path to your training data\n",
        "training_data_path = '/content/drive/MyDrive/Colab Notebooks/final dataset used for oil spill/dataset-final/dataset/train'\n",
        "\n",
        "# Create an ImageDataGenerator for training data\n",
        "training_data_generator = ImageDataGenerator(\n",
        "    # Add other data augmentation configurations as needed\n",
        "    rescale=1./255,  # Normalize pixel values to be between 0 and 1\n",
        ")\n",
        "\n",
        "# Flow from directory using the generator\n",
        "training_set = training_data_generator.flow_from_directory(\n",
        "    training_data_path,\n",
        "    target_size=(height, width),\n",
        "    batch_size=batch_size,\n",
        "    class_mode='categorical'\n",
        ")\n"
      ],
      "metadata": {
        "colab": {
          "base_uri": "https://localhost:8080/"
        },
        "id": "PRYpYwJjemDp",
        "outputId": "3985f415-f322-428a-94c1-114dff2cfdf8"
      },
      "execution_count": null,
      "outputs": [
        {
          "output_type": "stream",
          "name": "stdout",
          "text": [
            "Found 2800 images belonging to 2 classes.\n"
          ]
        }
      ]
    },
    {
      "cell_type": "code",
      "source": [
        "from datetime import datetime\n",
        "from keras.callbacks import ModelCheckpoint, ReduceLROnPlateau\n",
        "from keras.models import Sequential\n",
        "from keras.layers import Conv2D, MaxPooling2D, Flatten, Dense\n",
        "from keras.optimizers import Adam\n",
        "from keras.preprocessing.image import ImageDataGenerator\n",
        "from keras.utils import to_categorical\n",
        "import numpy as np\n",
        "\n",
        "# Assuming you have a Sequential model\n",
        "model = Sequential()\n",
        "\n",
        "# Example model architecture for image classification (modify based on your needs)\n",
        "model.add(Conv2D(32, (3, 3), activation='relu', input_shape=(height, width, channels)))\n",
        "model.add(MaxPooling2D((2, 2)))\n",
        "model.add(Conv2D(64, (3, 3), activation='relu'))\n",
        "model.add(MaxPooling2D((2, 2)))\n",
        "model.add(Conv2D(128, (3, 3), activation='relu'))\n",
        "model.add(MaxPooling2D((2, 2)))\n",
        "model.add(Flatten())\n",
        "model.add(Dense(128, activation='relu'))\n",
        "model.add(Dense(num_classes, activation='softmax'))\n",
        "\n",
        "# Compile the model with appropriate optimizer and loss function\n",
        "model.compile(optimizer=Adam(learning_rate=0.001), loss='categorical_crossentropy', metrics=['accuracy'])\n",
        "\n",
        "# Assuming you have training and validation data directories\n",
        "train_directory = '/content/drive/MyDrive/Colab Notebooks/final dataset used for oil spill/dataset-final/dataset/train'\n",
        "valid_directory = '/content/drive/MyDrive/Colab Notebooks/final dataset used for oil spill/dataset-final/dataset/Validation'\n",
        "\n",
        "# Assuming num_classes is the number of classes in your classification task\n",
        "num_classes = 2\n",
        "\n",
        "# Set up data generators\n",
        "train_datagen = ImageDataGenerator(rescale=1./255,\n",
        "                                   shear_range=0.2,\n",
        "                                   zoom_range=0.2,\n",
        "                                   horizontal_flip=True)\n",
        "\n",
        "test_datagen = ImageDataGenerator(rescale=1./255)\n",
        "\n",
        "training_set = train_datagen.flow_from_directory(train_directory,\n",
        "                                                 target_size=(height, width),\n",
        "                                                 batch_size=batch_size,\n",
        "                                                 class_mode='categorical')\n",
        "\n",
        "validation_set = test_datagen.flow_from_directory(valid_directory,\n",
        "                                                 target_size=(height, width),\n",
        "                                                 batch_size=batch_size,\n",
        "                                                 class_mode='categorical')\n",
        "\n",
        "# Set up callbacks\n",
        "lr_reducer = ReduceLROnPlateau(factor=np.sqrt(0.1), cooldown=0, patience=5, min_lr=0.5e-6)\n",
        "checkpoint = ModelCheckpoint(filepath='/content/drive/MyDrive/Colab Notebooks/final dataset used for oil spill/model.h5',\n",
        "                              verbose=1, save_best_only=True)\n",
        "callbacks = [checkpoint, lr_reducer]\n",
        "\n",
        "# Training the model\n",
        "start = datetime.now()\n",
        "history = model.fit(training_set,\n",
        "                    steps_per_epoch=len(training_set),\n",
        "                    epochs=20,\n",
        "                    verbose=5,\n",
        "                    validation_data=validation_set,\n",
        "                    validation_steps=len(validation_set),\n",
        "                    callbacks=callbacks)\n",
        "duration = datetime.now() - start\n",
        "print(\"Training completed in time: \", duration)\n"
      ],
      "metadata": {
        "colab": {
          "base_uri": "https://localhost:8080/"
        },
        "id": "wFLJrSxle686",
        "outputId": "7a7f1954-e532-46ec-cd39-07c522eb0dad"
      },
      "execution_count": null,
      "outputs": [
        {
          "output_type": "stream",
          "name": "stdout",
          "text": [
            "Found 2800 images belonging to 2 classes.\n",
            "Found 608 images belonging to 2 classes.\n",
            "Epoch 1/20\n",
            "\n",
            "Epoch 1: val_loss improved from inf to 0.60777, saving model to /content/drive/MyDrive/Colab Notebooks/final dataset used for oil spill/model.h5\n"
          ]
        },
        {
          "output_type": "stream",
          "name": "stderr",
          "text": [
            "/usr/local/lib/python3.10/dist-packages/keras/src/engine/training.py:3103: UserWarning: You are saving your model as an HDF5 file via `model.save()`. This file format is considered legacy. We recommend using instead the native Keras format, e.g. `model.save('my_model.keras')`.\n",
            "  saving_api.save_model(\n"
          ]
        },
        {
          "output_type": "stream",
          "name": "stdout",
          "text": [
            "Epoch 2/20\n",
            "\n",
            "Epoch 2: val_loss improved from 0.60777 to 0.54319, saving model to /content/drive/MyDrive/Colab Notebooks/final dataset used for oil spill/model.h5\n",
            "Epoch 3/20\n",
            "\n",
            "Epoch 3: val_loss improved from 0.54319 to 0.45643, saving model to /content/drive/MyDrive/Colab Notebooks/final dataset used for oil spill/model.h5\n",
            "Epoch 4/20\n",
            "\n",
            "Epoch 4: val_loss improved from 0.45643 to 0.36869, saving model to /content/drive/MyDrive/Colab Notebooks/final dataset used for oil spill/model.h5\n",
            "Epoch 5/20\n",
            "\n",
            "Epoch 5: val_loss improved from 0.36869 to 0.23964, saving model to /content/drive/MyDrive/Colab Notebooks/final dataset used for oil spill/model.h5\n",
            "Epoch 6/20\n",
            "\n",
            "Epoch 6: val_loss improved from 0.23964 to 0.21740, saving model to /content/drive/MyDrive/Colab Notebooks/final dataset used for oil spill/model.h5\n",
            "Epoch 7/20\n",
            "\n",
            "Epoch 7: val_loss did not improve from 0.21740\n",
            "Epoch 8/20\n",
            "\n",
            "Epoch 8: val_loss improved from 0.21740 to 0.15711, saving model to /content/drive/MyDrive/Colab Notebooks/final dataset used for oil spill/model.h5\n",
            "Epoch 9/20\n",
            "\n",
            "Epoch 9: val_loss did not improve from 0.15711\n",
            "Epoch 10/20\n",
            "\n",
            "Epoch 10: val_loss did not improve from 0.15711\n",
            "Epoch 11/20\n",
            "\n",
            "Epoch 11: val_loss improved from 0.15711 to 0.10622, saving model to /content/drive/MyDrive/Colab Notebooks/final dataset used for oil spill/model.h5\n",
            "Epoch 12/20\n",
            "\n",
            "Epoch 12: val_loss improved from 0.10622 to 0.10206, saving model to /content/drive/MyDrive/Colab Notebooks/final dataset used for oil spill/model.h5\n",
            "Epoch 13/20\n",
            "\n",
            "Epoch 13: val_loss did not improve from 0.10206\n",
            "Epoch 14/20\n",
            "\n",
            "Epoch 14: val_loss did not improve from 0.10206\n",
            "Epoch 15/20\n",
            "\n",
            "Epoch 15: val_loss did not improve from 0.10206\n",
            "Epoch 16/20\n",
            "\n",
            "Epoch 16: val_loss did not improve from 0.10206\n",
            "Epoch 17/20\n",
            "\n",
            "Epoch 17: val_loss did not improve from 0.10206\n",
            "Epoch 18/20\n",
            "\n",
            "Epoch 18: val_loss improved from 0.10206 to 0.08444, saving model to /content/drive/MyDrive/Colab Notebooks/final dataset used for oil spill/model.h5\n",
            "Epoch 19/20\n",
            "\n",
            "Epoch 19: val_loss improved from 0.08444 to 0.07431, saving model to /content/drive/MyDrive/Colab Notebooks/final dataset used for oil spill/model.h5\n",
            "Epoch 20/20\n",
            "\n",
            "Epoch 20: val_loss did not improve from 0.07431\n",
            "Training completed in time:  0:30:36.662329\n"
          ]
        }
      ]
    },
    {
      "cell_type": "code",
      "source": [
        "score = model.evaluate(test_set)\n",
        "print('Test Loss:', score[0])\n",
        "print('Test accuracy:', score[1])"
      ],
      "metadata": {
        "colab": {
          "base_uri": "https://localhost:8080/"
        },
        "id": "8hnH1C29o_Gt",
        "outputId": "c73a2ad0-a2a6-4456-84bb-917e63b35eab"
      },
      "execution_count": null,
      "outputs": [
        {
          "output_type": "stream",
          "name": "stdout",
          "text": [
            "75/75 [==============================] - 356s 5s/step - loss: 0.0622 - accuracy: 0.9817\n",
            "Test Loss: 0.06219245120882988\n",
            "Test accuracy: 0.9816666841506958\n"
          ]
        }
      ]
    },
    {
      "cell_type": "code",
      "source": [
        "import matplotlib.pyplot as plt\n",
        "\n",
        "plt.plot(history.history[\"accuracy\"])\n",
        "plt.plot(history.history['val_accuracy'])\n",
        "plt.plot(history.history['loss'])\n",
        "plt.plot(history.history['val_loss'])\n",
        "plt.title(\"Model Accuracy\")\n",
        "plt.ylabel(\"Accuracy\")\n",
        "plt.xlabel(\"Epoch\")\n",
        "plt.legend([\"Accuracy\", \"Validation Accuracy\", \"Loss\", \"Validation Loss\"])\n",
        "plt.show()\n"
      ],
      "metadata": {
        "colab": {
          "base_uri": "https://localhost:8080/",
          "height": 472
        },
        "id": "3RwJZ_Mkqmta",
        "outputId": "dae77a19-1ed2-444e-edd1-38a52d284d23"
      },
      "execution_count": null,
      "outputs": [
        {
          "output_type": "display_data",
          "data": {
            "text/plain": [
              "<Figure size 640x480 with 1 Axes>"
            ],
            "image/png": "[encoded data removed]"
          },
          "metadata": {}
        }
      ]
    },
    {
      "cell_type": "code",
      "source": [
        "pip install seaborn"
      ],
      "metadata": {
        "colab": {
          "base_uri": "https://localhost:8080/"
        },
        "id": "x3XXF8hosoG4",
        "outputId": "1d4f9854-b687-4054-ea6b-bee94ee7f523"
      },
      "execution_count": null,
      "outputs": [
        {
          "output_type": "stream",
          "name": "stdout",
          "text": [
            "Requirement already satisfied: seaborn in /usr/local/lib/python3.10/dist-packages (0.12.2)\n",
            "Requirement already satisfied: numpy!=1.24.0,>=1.17 in /usr/local/lib/python3.10/dist-packages (from seaborn) (1.23.5)\n",
            "Requirement already satisfied: pandas>=0.25 in /usr/local/lib/python3.10/dist-packages (from seaborn) (1.5.3)\n",
            "Requirement already satisfied: matplotlib!=3.6.1,>=3.1 in /usr/local/lib/python3.10/dist-packages (from seaborn) (3.7.1)\n",
            "Requirement already satisfied: contourpy>=1.0.1 in /usr/local/lib/python3.10/dist-packages (from matplotlib!=3.6.1,>=3.1->seaborn) (1.2.0)\n",
            "Requirement already satisfied: cycler>=0.10 in /usr/local/lib/python3.10/dist-packages (from matplotlib!=3.6.1,>=3.1->seaborn) (0.12.1)\n",
            "Requirement already satisfied: fonttools>=4.22.0 in /usr/local/lib/python3.10/dist-packages (from matplotlib!=3.6.1,>=3.1->seaborn) (4.46.0)\n",
            "Requirement already satisfied: kiwisolver>=1.0.1 in /usr/local/lib/python3.10/dist-packages (from matplotlib!=3.6.1,>=3.1->seaborn) (1.4.5)\n",
            "Requirement already satisfied: packaging>=20.0 in /usr/local/lib/python3.10/dist-packages (from matplotlib!=3.6.1,>=3.1->seaborn) (23.2)\n",
            "Requirement already satisfied: pillow>=6.2.0 in /usr/local/lib/python3.10/dist-packages (from matplotlib!=3.6.1,>=3.1->seaborn) (9.4.0)\n",
            "Requirement already satisfied: pyparsing>=2.3.1 in /usr/local/lib/python3.10/dist-packages (from matplotlib!=3.6.1,>=3.1->seaborn) (3.1.1)\n",
            "Requirement already satisfied: python-dateutil>=2.7 in /usr/local/lib/python3.10/dist-packages (from matplotlib!=3.6.1,>=3.1->seaborn) (2.8.2)\n",
            "Requirement already satisfied: pytz>=2020.1 in /usr/local/lib/python3.10/dist-packages (from pandas>=0.25->seaborn) (2023.3.post1)\n",
            "Requirement already satisfied: six>=1.5 in /usr/local/lib/python3.10/dist-packages (from python-dateutil>=2.7->matplotlib!=3.6.1,>=3.1->seaborn) (1.16.0)\n"
          ]
        }
      ]
    },
    {
      "cell_type": "code",
      "source": [
        "class_names = [\"Non Oil Spill\", \"Oil Spill\"]  # Replace with your actual class labels\n",
        "\n",
        "# Assuming you have true_labels and predicted_labels from the previous code\n",
        "conf_matrix = confusion_matrix(true_labels, predicted_labels)\n",
        "\n",
        "# Plot confusion matrix\n",
        "plt.figure(figsize=(8, 6))\n",
        "sns.heatmap(conf_matrix, annot=True, fmt='d', cmap='Blues', xticklabels=class_names, yticklabels=class_names)\n",
        "plt.title('Confusion Matrix')\n",
        "plt.xlabel('Predicted')\n",
        "plt.ylabel('True')\n",
        "plt.show()\n"
      ],
      "metadata": {
        "colab": {
          "base_uri": "https://localhost:8080/",
          "height": 564
        },
        "id": "OuJvej3ys-SP",
        "outputId": "4bc54788-b988-4510-8e80-8eabba082d34"
      },
      "execution_count": null,
      "outputs": [
        {
          "output_type": "display_data",
          "data": {
            "text/plain": [
              "<Figure size 800x600 with 2 Axes>"
            ],
            "image/png": "[encoded data removed]"
          },
          "metadata": {}
        }
      ]
    },
    {
      "cell_type": "code",
      "source": [
        "from sklearn.metrics import precision_score\n",
        "\n",
        "# Assuming you have true_labels and predicted_labels from the previous code\n",
        "precision_oil_spill = precision_score(true_labels, predicted_labels, pos_label=1)\n",
        "precision_non_oil_spill = precision_score(true_labels, predicted_labels, pos_label=0)\n",
        "\n",
        "print(f'Precision for \"Oil Spill\": {precision_oil_spill}')\n",
        "print(f'Precision for \"Non Oil Spill\": {precision_non_oil_spill}')\n"
      ],
      "metadata": {
        "colab": {
          "base_uri": "https://localhost:8080/"
        },
        "id": "i_5rMq5xykiG",
        "outputId": "1784a799-e8b8-409d-8083-796e183f2ad0"
      },
      "execution_count": null,
      "outputs": [
        {
          "output_type": "stream",
          "name": "stdout",
          "text": [
            "Precision for \"Oil Spill\": 1.0\n",
            "Precision for \"Non Oil Spill\": 0.964644513137558\n"
          ]
        }
      ]
    },
    {
      "cell_type": "code",
      "source": [
        "# Simpan model dalam format SavedModel\n",
        "model.save(\"testmodel\", save_format=\"tf\")\n",
        "\n",
        "# Muat kembali model (opsional)\n",
        "# loaded_model = load_model(\"testmodel\")\n"
      ],
      "metadata": {
        "id": "QGnf5-hH50UM"
      },
      "execution_count": null,
      "outputs": []
    }
  ]
}